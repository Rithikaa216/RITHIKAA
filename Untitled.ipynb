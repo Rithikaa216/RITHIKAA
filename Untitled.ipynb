{
 "cells": [
  {
   "cell_type": "code",
   "execution_count": 1,
   "id": "ec64862c",
   "metadata": {},
   "outputs": [],
   "source": [
    "import pandas as pd"
   ]
  },
  {
   "cell_type": "code",
   "execution_count": 2,
   "id": "890963d5",
   "metadata": {},
   "outputs": [],
   "source": [
    "csv_file_path = \"C:/Users/rithi/Downloads/sales_data_1.csv\""
   ]
  },
  {
   "cell_type": "code",
   "execution_count": 3,
   "id": "d8fbf98b",
   "metadata": {},
   "outputs": [],
   "source": [
    "df = pd.read_csv(csv_file_path)"
   ]
  },
  {
   "cell_type": "code",
   "execution_count": 4,
   "id": "dcf5af1f",
   "metadata": {},
   "outputs": [
    {
     "name": "stdout",
     "output_type": "stream",
     "text": [
      "Index(['Date', 'Firm bought from', 'Buying price', 'Customer', 'Selling price',\n",
      "       'Quantity sold'],\n",
      "      dtype='object')\n"
     ]
    }
   ],
   "source": [
    "print(df.columns)"
   ]
  },
  {
   "cell_type": "code",
   "execution_count": 5,
   "id": "2c0064df",
   "metadata": {},
   "outputs": [],
   "source": [
    "cost_column = df['Buying price']\n",
    "price_column = df['Selling price']"
   ]
  },
  {
   "cell_type": "code",
   "execution_count": 6,
   "id": "da710223",
   "metadata": {},
   "outputs": [],
   "source": [
    "df['Profit'] = df['Selling price'] - df['Buying price']"
   ]
  },
  {
   "cell_type": "code",
   "execution_count": 7,
   "id": "b9023fda",
   "metadata": {},
   "outputs": [],
   "source": [
    "mean_price = df['Selling price'].mean()\n",
    "max_profit = df['Profit'].max()"
   ]
  },
  {
   "cell_type": "code",
   "execution_count": 8,
   "id": "033f2fba",
   "metadata": {},
   "outputs": [
    {
     "name": "stdout",
     "output_type": "stream",
     "text": [
      "Mean Price: 73.91328571428573\n",
      "Max Profit: 48.64999999999999\n"
     ]
    }
   ],
   "source": [
    "print(\"Mean Price:\", mean_price)\n",
    "print(\"Max Profit:\", max_profit)"
   ]
  },
  {
   "cell_type": "code",
   "execution_count": 9,
   "id": "7fef0cee",
   "metadata": {},
   "outputs": [
    {
     "name": "stdout",
     "output_type": "stream",
     "text": [
      "1. Overall Gross Margin: 1207.1999999999998\n",
      "2. Most Profitable Vendor: Vendor7\n",
      "3. Least Profitable Customer: Customer9\n",
      "4. Most Profitable Day of the Week: Monday\n",
      "5. Least Profitable Day of the Week: Thursday\n"
     ]
    }
   ],
   "source": [
    "import pandas as pd\n",
    "\n",
    "csv_file_path = \"C:/Users/rithi/Downloads/sales_data_2.csv\"\n",
    "\n",
    "\n",
    "df = pd.read_csv(csv_file_path)\n",
    "\n",
    "# 1. What is their overall gross margin for their business?\n",
    "df['Gross Margin'] = df['Selling price'] - df['Buying price']\n",
    "overall_gross_margin = df['Gross Margin'].sum()\n",
    "\n",
    "# 2. Which vendor is the most profitable?\n",
    "vendor_profit = df.groupby('Firm bought from')['Gross Margin'].sum()\n",
    "most_profitable_vendor = vendor_profit.idxmax()\n",
    "\n",
    "# 3. Which customer is the least profitable?\n",
    "customer_profit = df.groupby('Customer')['Gross Margin'].sum()\n",
    "least_profitable_customer = customer_profit.idxmin()\n",
    "\n",
    "# 4. Which day of the week was most profitable for them?\n",
    "df['Date'] = pd.to_datetime(df['Date'])\n",
    "df['Day of Week'] = df['Date'].dt.day_name()\n",
    "day_of_week_profit = df.groupby('Day of Week')['Gross Margin'].sum()\n",
    "most_profitable_day = day_of_week_profit.idxmax()\n",
    "\n",
    "# 5. Which day of the week was the least profitable for them?\n",
    "least_profitable_day = day_of_week_profit.idxmin()\n",
    "\n",
    "# Print the answers\n",
    "print(f\"1. Overall Gross Margin: {overall_gross_margin}\")\n",
    "print(f\"2. Most Profitable Vendor: {most_profitable_vendor}\")\n",
    "print(f\"3. Least Profitable Customer: {least_profitable_customer}\")\n",
    "print(f\"4. Most Profitable Day of the Week: {most_profitable_day}\")\n",
    "print(f\"5. Least Profitable Day of the Week: {least_profitable_day}\")\n"
   ]
  },
  {
   "cell_type": "code",
   "execution_count": 10,
   "id": "12794252",
   "metadata": {},
   "outputs": [
    {
     "name": "stdout",
     "output_type": "stream",
     "text": [
      "1. 3-Day Average of Daily Gross Profit:\n",
      "          Date  3-Day Avg Gross Profit\n",
      "0   2023-08-21                     NaN\n",
      "1   2023-08-21                     NaN\n",
      "2   2023-08-21               15.976667\n",
      "3   2023-08-21               13.660000\n",
      "4   2023-08-21               24.786667\n",
      "..         ...                     ...\n",
      "65  2023-08-27               20.686667\n",
      "66  2023-08-27               22.173333\n",
      "67  2023-08-27               23.016667\n",
      "68  2023-08-27               26.010000\n",
      "69  2023-08-27               29.036667\n",
      "\n",
      "[70 rows x 2 columns]\n",
      "3.1. Least Profitable Vendor to Consider Firing:\n",
      "Vendor6\n",
      "3.2. Least Profitable Customer to Consider Letting Go:\n",
      "Customer9\n",
      "4. Percentiles for Buying and Selling Prices:\n",
      "      Buying price  Selling price\n",
      "0.25         29.90        38.9750\n",
      "0.50         60.76        78.9900\n",
      "0.75         78.32       103.3975\n",
      "5. Transactions Below 25th Percentile (Low Prices):\n",
      "          Date Firm bought from  Buying price  Quantity bought    Customer  \\\n",
      "8   2023-08-21          Vendor1         20.95               95   Customer3   \n",
      "10  2023-08-22          Vendor5         27.71               33   Customer2   \n",
      "11  2023-08-22         Vendor10         10.48               80   Customer3   \n",
      "24  2023-08-23          Vendor7         27.75               22   Customer1   \n",
      "25  2023-08-23         Vendor10         10.19               42   Customer8   \n",
      "31  2023-08-24          Vendor6         14.76               19   Customer2   \n",
      "32  2023-08-24          Vendor7         26.29               55  Customer10   \n",
      "33  2023-08-24          Vendor5         18.66               68   Customer5   \n",
      "36  2023-08-24          Vendor7         24.75               20   Customer8   \n",
      "37  2023-08-24          Vendor2         17.24               52   Customer5   \n",
      "38  2023-08-24          Vendor2         14.30               85   Customer6   \n",
      "39  2023-08-24          Vendor7         15.42                9   Customer2   \n",
      "40  2023-08-25          Vendor2         17.82               60   Customer9   \n",
      "42  2023-08-25          Vendor1         17.62               81   Customer8   \n",
      "46  2023-08-25          Vendor2         11.13               22   Customer5   \n",
      "47  2023-08-25          Vendor8         10.31               70   Customer9   \n",
      "49  2023-08-25          Vendor4         17.85               80   Customer5   \n",
      "59  2023-08-26          Vendor4         28.90               88   Customer8   \n",
      "\n",
      "    Selling price  Quantity sold  Gross Margin  3-Day Avg Gross Profit  \n",
      "8           24.48             22          3.53               28.256667  \n",
      "10          32.90             11          5.19                7.526667  \n",
      "11          14.31             40          3.83                7.626667  \n",
      "24          30.86              3          3.11               13.536667  \n",
      "25          11.65             25          1.46                5.883333  \n",
      "31          16.25              3          1.49               10.380000  \n",
      "32          38.53             55         12.24               11.293333  \n",
      "33          22.45             11          3.79                5.840000  \n",
      "36          31.49             19          6.74               21.663333  \n",
      "37          19.39             42          2.15               11.463333  \n",
      "38          18.81             57          4.51                4.466667  \n",
      "39          22.79              7          7.37                4.676667  \n",
      "40          22.13             58          4.31                5.396667  \n",
      "42          22.11             74          4.49               11.363333  \n",
      "46          14.78              4          3.65               20.400000  \n",
      "47          12.26              9          1.95               14.250000  \n",
      "49          20.47             20          2.62               13.780000  \n",
      "59          36.83             11          7.93               16.970000  \n",
      "5. Transactions Above 75th Percentile (High Prices):\n",
      "          Date Firm bought from  Buying price  Quantity bought    Customer  \\\n",
      "2   2023-08-21          Vendor7         83.93               16   Customer2   \n",
      "4   2023-08-21          Vendor2         98.91                1   Customer5   \n",
      "6   2023-08-21          Vendor2         74.34                7   Customer6   \n",
      "7   2023-08-21          Vendor3         98.11               62   Customer2   \n",
      "14  2023-08-22          Vendor9         80.15               34   Customer9   \n",
      "15  2023-08-22          Vendor9         92.70               23   Customer8   \n",
      "16  2023-08-22          Vendor7         89.79               61   Customer1   \n",
      "21  2023-08-23          Vendor3         71.96               70  Customer10   \n",
      "27  2023-08-23         Vendor10         93.29               68   Customer8   \n",
      "34  2023-08-24          Vendor4         99.23               95   Customer1   \n",
      "35  2023-08-24          Vendor7         93.63               94   Customer7   \n",
      "45  2023-08-25          Vendor3         92.54               28   Customer3   \n",
      "48  2023-08-25          Vendor7         87.36               68   Customer1   \n",
      "51  2023-08-26          Vendor7         94.29               34   Customer8   \n",
      "54  2023-08-26          Vendor4         82.77               66   Customer8   \n",
      "64  2023-08-27          Vendor9         77.18               59   Customer4   \n",
      "66  2023-08-27          Vendor8         88.79               14   Customer3   \n",
      "68  2023-08-27          Vendor5         94.06               18   Customer5   \n",
      "\n",
      "    Selling price  Quantity sold  Gross Margin  3-Day Avg Gross Profit  \n",
      "2          103.76             15         19.83               15.976667  \n",
      "4          140.92              1         42.01               24.786667  \n",
      "6          106.93              6         32.59               32.130000  \n",
      "7          146.76             62         48.65               34.343333  \n",
      "14         109.71             20         29.56               19.526667  \n",
      "15         132.53              9         39.83               26.763333  \n",
      "16         111.92             25         22.13               30.506667  \n",
      "21         105.37             49         33.41               20.236667  \n",
      "27         135.33             41         42.04               15.986667  \n",
      "34         131.98             92         32.75               16.260000  \n",
      "35         119.13             23         25.50               20.680000  \n",
      "45         129.69             15         37.15               22.723333  \n",
      "48         124.13             34         36.77               14.123333  \n",
      "51         113.30             29         19.01               10.926667  \n",
      "54         124.13             65         41.36               25.790000  \n",
      "64         104.27             43         27.09               23.926667  \n",
      "66         105.59              5         16.80               22.173333  \n",
      "68         125.67              4         31.61               26.010000  \n"
     ]
    }
   ],
   "source": [
    "import pandas as pd\n",
    "\n",
    "# Define the path to your CSV file\n",
    "csv_file_path = \"C:/Users/rithi/Downloads/sales_data_2.csv\"\n",
    "\n",
    "# Read the CSV file into a pandas DataFrame\n",
    "df = pd.read_csv(csv_file_path)\n",
    "\n",
    "# 1. \n",
    "df['Gross Margin'] = df['Selling price'] - df['Buying price']\n",
    "df['3-Day Avg Gross Profit'] = df['Gross Margin'].rolling(window=3).mean()\n",
    "\n",
    "\n",
    "\n",
    "# 3.\n",
    "vendor_profit = df.groupby('Firm bought from')['Gross Margin'].sum()\n",
    "least_profitable_vendor = vendor_profit.idxmin()  # Consider actions regarding the least profitable vendor.\n",
    "\n",
    "\n",
    "customer_profit = df.groupby('Customer')['Gross Margin'].sum()\n",
    "least_profitable_customer = customer_profit.idxmin()  # Consider actions regarding the least profitable customer.\n",
    "\n",
    "\n",
    "percentiles = df[['Buying price', 'Selling price']].quantile([0.25, 0.5, 0.75])\n",
    "\n",
    "below_25th_percentile = df[df['Selling price'] < percentiles.loc[0.25, 'Selling price']]\n",
    "above_75th_percentile = df[df['Selling price'] > percentiles.loc[0.75, 'Selling price']]\n",
    "\n",
    "\n",
    "print(\"1. 3-Day Average of Daily Gross Profit:\")\n",
    "print(df[['Date', '3-Day Avg Gross Profit']])\n",
    "\n",
    "\n",
    "print(\"3.1. Least Profitable Vendor to Consider Firing:\")\n",
    "print(least_profitable_vendor)\n",
    "\n",
    "\n",
    "print(\"3.2. Least Profitable Customer to Consider Letting Go:\")\n",
    "print(least_profitable_customer)\n",
    "\n",
    "\n",
    "print(\"4. Percentiles for Buying and Selling Prices:\")\n",
    "print(percentiles)\n",
    "\n",
    "\n",
    "print(\"5. Transactions Below 25th Percentile (Low Prices):\")\n",
    "print(below_25th_percentile)\n",
    "print(\"5. Transactions Above 75th Percentile (High Prices):\")\n",
    "print(above_75th_percentile)\n",
    "\n"
   ]
  },
  {
   "cell_type": "code",
   "execution_count": 11,
   "id": "eeccf690",
   "metadata": {},
   "outputs": [
    {
     "data": {
      "image/png": "[encoded data removed]",
      "text/plain": [
       "<Figure size 1200x600 with 1 Axes>"
      ]
     },
     "metadata": {},
     "output_type": "display_data"
    }
   ],
   "source": [
    "import pandas as pd\n",
    "import matplotlib.pyplot as plt\n",
    "import seaborn as sns\n",
    "\n",
    "csv_file_path = \"C:/Users/rithi/Downloads/sales_data_2.csv\"\n",
    "\n",
    "df = pd.read_csv(csv_file_path)\n",
    "df['Gross Margin'] = df['Selling price'] - df['Buying price']\n",
    "df['3-Day Avg Gross Profit'] = df['Gross Margin'].rolling(window=3).mean()\n",
    "\n",
    "\n",
    "plt.figure(figsize=(12, 6))\n",
    "sns.lineplot(x='Date', y='3-Day Avg Gross Profit', data=df, ci=None)\n",
    "plt.xlabel(\"Date\")\n",
    "plt.ylabel(\"3-Day Avg Gross Profit\")\n",
    "plt.title(\"3-Day Trend of Gross Profit Changes Over Time\")\n",
    "plt.grid(True)\n",
    "\n",
    "plt.show()"
   ]
  },
  {
   "cell_type": "code",
   "execution_count": 12,
   "id": "aaabfd6f",
   "metadata": {},
   "outputs": [
    {
     "name": "stdout",
     "output_type": "stream",
     "text": [
      "Impact on Gross Margin by Honoring Vendor 4: 0.0\n"
     ]
    }
   ],
   "source": [
    "import pandas as pd\n",
    "\n",
    "\n",
    "csv_file_path = \"C:/Users/rithi/Downloads/sales_data_2.csv\"\n",
    "\n",
    "\n",
    "df = pd.read_csv(csv_file_path)\n",
    "\n",
    "\n",
    "gross_margin_with_vendor4 = (df['Selling price'] - df['Buying price']).sum()\n",
    "\n",
    "\n",
    "df_without_vendor4 = df[df['Firm bought from'] != ' Firm bought from 4']\n",
    "\n",
    "\n",
    "gross_margin_without_vendor4 = (df_without_vendor4['Selling price'] - df_without_vendor4['Buying price']).sum()\n",
    "\n",
    "\n",
    "impact_on_gross_margin = gross_margin_without_vendor4 - gross_margin_with_vendor4\n",
    "\n",
    "print(\"Impact on Gross Margin by Honoring Vendor 4:\", impact_on_gross_margin)\n"
   ]
  },
  {
   "cell_type": "code",
   "execution_count": 13,
   "id": "7498814a",
   "metadata": {},
   "outputs": [
    {
     "name": "stdout",
     "output_type": "stream",
     "text": [
      "Vendor with the Highest Gross Margin: Vendor7\n",
      "Theoretical Maximum Margin from That Vendor: 224.98\n"
     ]
    }
   ],
   "source": [
    "df['Gross Margin'] = df['Selling price'] - df['Buying price']\n",
    "vendor_gross_margin = df.groupby('Firm bought from')['Gross Margin'].sum()\n",
    "\n",
    "highest_margin_vendor = vendor_gross_margin.idxmax()\n",
    "\n",
    "theoretical_max_margin = vendor_gross_margin.max()\n",
    "\n",
    "print(\"Vendor with the Highest Gross Margin:\", highest_margin_vendor)\n",
    "print(\"Theoretical Maximum Margin from That Vendor:\", theoretical_max_margin)"
   ]
  },
  {
   "cell_type": "code",
   "execution_count": 14,
   "id": "7cca0a96",
   "metadata": {},
   "outputs": [
    {
     "name": "stdout",
     "output_type": "stream",
     "text": [
      "Price Elasticity: 13.232346363099014\n"
     ]
    }
   ],
   "source": [
    "price_column = df['Selling price']\n",
    "sales_column = df['Quantity sold']\n",
    "\n",
    "\n",
    "percent_change_price = (price_column - (price_column - 1)) / price_column\n",
    "percent_change_sales = (sales_column - (sales_column - 1)) / sales_column\n",
    "\n",
    "price_elasticity = percent_change_sales / percent_change_price\n",
    "\n",
    "print(\"Price Elasticity:\", price_elasticity.mean())"
   ]
  },
  {
   "cell_type": "code",
   "execution_count": null,
   "id": "631d1a0e",
   "metadata": {},
   "outputs": [],
   "source": []
  }
 ],
 "metadata": {
  "kernelspec": {
   "display_name": "Python 3 (ipykernel)",
   "language": "python",
   "name": "python3"
  },
  "language_info": {
   "codemirror_mode": {
    "name": "ipython",
    "version": 3
   },
   "file_extension": ".py",
   "mimetype": "text/x-python",
   "name": "python",
   "nbconvert_exporter": "python",
   "pygments_lexer": "ipython3",
   "version": "3.9.13"
  }
 },
 "nbformat": 4,
 "nbformat_minor": 5
}
